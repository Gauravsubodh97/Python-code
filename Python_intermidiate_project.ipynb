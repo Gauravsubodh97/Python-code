{
  "nbformat": 4,
  "nbformat_minor": 0,
  "metadata": {
    "colab": {
      "provenance": [],
      "authorship_tag": "ABX9TyP0BWZkvd9Dfv/+U/HLSiSi",
      "include_colab_link": true
    },
    "kernelspec": {
      "name": "python3",
      "display_name": "Python 3"
    },
    "language_info": {
      "name": "python"
    }
  },
  "cells": [
    {
      "cell_type": "markdown",
      "metadata": {
        "id": "view-in-github",
        "colab_type": "text"
      },
      "source": [
        "<a href=\"https://colab.research.google.com/github/Gauravsubodh97/Python-code/blob/main/Python_intermidiate_project.ipynb\" target=\"_parent\"><img src=\"https://colab.research.google.com/assets/colab-badge.svg\" alt=\"Open In Colab\"/></a>"
      ]
    },
    {
      "cell_type": "code",
      "execution_count": null,
      "metadata": {
        "id": "Na7QngxcfKa4"
      },
      "outputs": [],
      "source": [
        "class Atm:\n",
        "    def __init__(self):\n",
        "        self.pin =\"\"\n",
        "        self.balance =0\n",
        "\n",
        "        self.menu()\n",
        "\n",
        "\n",
        "    def menu(self):\n",
        "        user_input =\"\"\"\n",
        "        Please enter how you want to process:-\n",
        "        1. Enter 1 to create pin\n",
        "        2. Enter 2 to deposit\n",
        "        3. Enter 3 to cheack balance\n",
        "        4. Enter 4 to withdraw\n",
        "        5. Enter 5 to exit\n",
        "        \"\"\"\n",
        "\n",
        "        if user_input =='1':\n",
        "            self.create_pin()\n",
        "        elif user_input =='2':\n",
        "            self.deposit()\n",
        "        elif user_input == '3':\n",
        "            self.check_balance()\n",
        "        elif user_input == '4':\n",
        "            self.withdraw()\n",
        "        else:\n",
        "            print('bye')\n",
        "\n",
        "    def create_pin(self):\n",
        "        self.pin = input(\"Enter pin:- \")\n",
        "        print('Pin set sucessfully')\n",
        "    def deposit(self):\n",
        "        temp= input('Please Enter pin:-')\n",
        "        if self.pin ==temp :\n",
        "            amount=int(input('Enter amount to deposit'))\n",
        "            self.balance =self.balance +amount\n",
        "            print('Deposit Sucessfull')\n",
        "        else:\n",
        "            print(\"Invalid pin\")\n",
        "\n",
        "    def withdraw(self):\n",
        "        temp= input('Please Enter pin')\n",
        "        if self.pin ==temp :\n",
        "            amount=int(input('Enter amount to deposit'))\n",
        "            if amount < self.balance:\n",
        "                self.balance = self.balance - amount\n",
        "                print('Operation Sucesfull')\n",
        "            else:\n",
        "                print('Insaficiant funds')\n",
        "        else:\n",
        "            print('invalid pin')\n",
        "\n",
        "    def check_balance(self):\n",
        "        pin = int(input('Please enter pin'))\n",
        "\n",
        "        if pin == self.pin:\n",
        "            print(self.balance)\n",
        "        else:\n",
        "            print('Invalid Pin')\n",
        "\n",
        ""
      ]
    }
  ]
}